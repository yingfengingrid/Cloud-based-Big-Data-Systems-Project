{
 "cells": [
  {
   "cell_type": "code",
   "execution_count": null,
   "id": "dd1bf6f1",
   "metadata": {},
   "outputs": [],
   "source": [
    "import pandas as pd\n",
    "from pyspark.sql import SparkSession\n",
    "from pyspark.ml.feature import VectorAssembler \n",
    "from pyspark.ml.classification import RandomForestClassifier\n",
    "from pyspark.ml.evaluation import BinaryClassificationEvaluator\n",
    "from pyspark.ml.evaluation import MulticlassClassificationEvaluator\n",
    "from pyspark.ml.classification import RandomForestClassificationModel\n",
    "\n",
    "sc.install_pypi_package('pandas')\n",
    "sc.install_pypi_package('pyarrow==0.10.0')\n",
    "sc.install_pypi_package('sklearn')\n",
    "\n",
    "import pandas as pd\n",
    "from sklearn import metrics\n",
    "\n"
   ]
  },
  {
   "cell_type": "code",
   "execution_count": null,
   "id": "7c1a483e",
   "metadata": {},
   "outputs": [],
   "source": [
    "spark=SparkSession.builder.appName('classification').getOrCreate()\n",
    "pandas_df = pd.read_csv('affairs.csv')\n",
    "sqlContest = SQLContext(sc)  \n",
    "df = sqlContest.createDataFrame(pandas_df) \n",
    "\n",
    "\n",
    "\n",
    "print((df.count(),len(df.columns)))\n",
    "\n",
    "\n",
    "df_assembler = VectorAssembler(inputCols=['rate_marriage', 'age', 'yrs_married', 'children', 'religious'\n",
    "                                         ,'gender','education','occupation'], \n",
    "                               outputCol=\"features\")\n",
    "df = df_assembler.transform(df)\n",
    "df.printSchema()\n",
    "df.show(5,truncate=False)\n",
    "\n",
    "\n",
    "model_df=df.select(['features','affairs'])\n",
    "train_df,test_df=model_df.randomSplit([0.75,0.25])\n",
    "train_df.count()\n",
    "train_df.groupBy('affairs').count().show()\n",
    "test_df.groupBy('affairs').count().show()\n",
    "\n",
    "\n",
    "rf_classifier=RandomForestClassifier(labelCol='affairs',numTrees=50).fit(train_df)\n",
    "rf_predictions=rf_classifier.transform(test_df)\n",
    "rf_predictions.show()\n",
    "\n",
    "rf_classifier.featureImportances \n",
    "\n",
    "\n",
    "\n",
    "rf_predictions.groupBy('prediction').count().show()\n",
    "rf_predictions.select(['probability','affairs','prediction']).show(10,False)\n",
    "\n",
    "rf_accuracy=MulticlassClassificationEvaluator(labelCol='affairs',metricName='accuracy').evaluate(rf_predictions)\n",
    "print('The accuracy of RF on test data is {0:.0%}'.format(rf_accuracy))\n",
    "\n",
    "rf_precision=MulticlassClassificationEvaluator(labelCol='affairs',metricName='weightedPrecision').evaluate(rf_predictions)\n",
    "print('The precision rate on test data is {0:.0%}'.format(rf_precision))\n",
    "\n",
    "rf_auc=BinaryClassificationEvaluator(labelCol='affairs').evaluate(rf_predictions)\n",
    "print(rf_auc)\n",
    "\n",
    "\n"
   ]
  },
  {
   "cell_type": "code",
   "execution_count": null,
   "id": "832241ec",
   "metadata": {},
   "outputs": [],
   "source": []
  }
 ],
 "metadata": {
  "kernelspec": {
   "display_name": "Python 3 (ipykernel)",
   "language": "python",
   "name": "python3"
  },
  "language_info": {
   "codemirror_mode": {
    "name": "ipython",
    "version": 3
   },
   "file_extension": ".py",
   "mimetype": "text/x-python",
   "name": "python",
   "nbconvert_exporter": "python",
   "pygments_lexer": "ipython3",
   "version": "3.9.7"
  },
  "varInspector": {
   "cols": {
    "lenName": 16,
    "lenType": 16,
    "lenVar": 40
   },
   "kernels_config": {
    "python": {
     "delete_cmd_postfix": "",
     "delete_cmd_prefix": "del ",
     "library": "var_list.py",
     "varRefreshCmd": "print(var_dic_list())"
    },
    "r": {
     "delete_cmd_postfix": ") ",
     "delete_cmd_prefix": "rm(",
     "library": "var_list.r",
     "varRefreshCmd": "cat(var_dic_list()) "
    }
   },
   "types_to_exclude": [
    "module",
    "function",
    "builtin_function_or_method",
    "instance",
    "_Feature"
   ],
   "window_display": false
  }
 },
 "nbformat": 4,
 "nbformat_minor": 5
}
